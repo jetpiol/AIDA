{
  "nbformat": 4,
  "nbformat_minor": 0,
  "metadata": {
    "colab": {
      "name": "AIDA 58025 Piol - Revisiting Python.ipynb",
      "provenance": [],
      "authorship_tag": "ABX9TyO6fktYh4cyxPXoqD1Zo2ai",
      "include_colab_link": true
    },
    "kernelspec": {
      "name": "python3",
      "display_name": "Python 3"
    }
  },
  "cells": [
    {
      "cell_type": "markdown",
      "metadata": {
        "id": "view-in-github",
        "colab_type": "text"
      },
      "source": [
        "<a href=\"https://colab.research.google.com/github/jetpiol/AIDA/blob/main/AIDA_58025_Piol_Revisiting_Python.ipynb\" target=\"_parent\"><img src=\"https://colab.research.google.com/assets/colab-badge.svg\" alt=\"Open In Colab\"/></a>"
      ]
    },
    {
      "cell_type": "markdown",
      "metadata": {
        "id": "M_kVZVFc7aTo"
      },
      "source": [
        "#Revisiting Python\r\n",
        "© J.C. Piol (2021)\r\n",
        "\r\n",
        "This notebook discusses the basic and intermediate Python coding principles and coding design."
      ]
    },
    {
      "cell_type": "markdown",
      "metadata": {
        "id": "Jz4HMVoC8Bzj"
      },
      "source": [
        "## Part 1: Programming Logic and Design\r\n",
        "\r\n",
        "In this section, we will revisit Programming Logic and Design using the Python Language.\r\n",
        "\r\n",
        "Discussions about Python"
      ]
    },
    {
      "cell_type": "markdown",
      "metadata": {
        "id": "nJGno4yC8xHS"
      },
      "source": [
        "## 1.1 Variables and Printing Values\r\n"
      ]
    },
    {
      "cell_type": "code",
      "metadata": {
        "colab": {
          "base_uri": "https://localhost:8080/"
        },
        "id": "SmclzIh88SPv",
        "outputId": "f40bdb56-04a9-4fbf-856c-fb009de2b500"
      },
      "source": [
        "# This is a C++ line of code\r\n",
        "#int x = 2;\r\n",
        "#Now this is a Python line code\r\n",
        "x = 2\r\n",
        "#print(x)\r\n",
        "#print(type(x))\r\n",
        "#print (\"The data type of x is \", type(x),\"and its value is\",x,\".\")\r\n",
        "#print(f\"The data type of x is  {type(x)}and its value is {x}.\")\r\n",
        "print(\"The data type of x is {} and its value is {} .\".format(type(x),x))"
      ],
      "execution_count": 4,
      "outputs": [
        {
          "output_type": "stream",
          "text": [
            "The data type of x is <class 'int'> and its value is 2 .\n"
          ],
          "name": "stdout"
        }
      ]
    },
    {
      "cell_type": "code",
      "metadata": {
        "colab": {
          "base_uri": "https://localhost:8080/"
        },
        "id": "cSxmX63t_bsb",
        "outputId": "65b02b7e-63f1-4d1e-b668-2251ca938651"
      },
      "source": [
        "print(\"Hellow World\")"
      ],
      "execution_count": 5,
      "outputs": [
        {
          "output_type": "stream",
          "text": [
            "Hellow World\n"
          ],
          "name": "stdout"
        }
      ]
    },
    {
      "cell_type": "markdown",
      "metadata": {
        "id": "1WEaKvN0_QPc"
      },
      "source": [
        ""
      ]
    },
    {
      "cell_type": "markdown",
      "metadata": {
        "id": "-aJJVsOS8HmX"
      },
      "source": [
        "## Part 2: Object-Oriented Programming"
      ]
    },
    {
      "cell_type": "code",
      "metadata": {
        "id": "5go4CRrk8Shf"
      },
      "source": [
        ""
      ],
      "execution_count": 1,
      "outputs": []
    },
    {
      "cell_type": "markdown",
      "metadata": {
        "id": "bxs7o1pZ8N3J"
      },
      "source": [
        "## Part 3: Data Structure and Algorithms"
      ]
    },
    {
      "cell_type": "code",
      "metadata": {
        "id": "2IWckhaD5zTw"
      },
      "source": [
        ""
      ],
      "execution_count": 1,
      "outputs": []
    }
  ]
}